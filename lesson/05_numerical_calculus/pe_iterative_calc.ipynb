{
 "cells": [
  {
   "cell_type": "markdown",
   "id": "c0e4ca7b-1984-472e-8faa-640b5de913a5",
   "metadata": {},
   "source": [
    "# Practical exercise: Iterative calculus with some interesting functions\n",
    "\n",
    "Complete the following steps as best you are able:\n",
    "  1. Write some functions to calculate higher-order derivatives, using lower-order derivatives as the building blocks.\n",
    "  2. Write some functions to calculate higher-order integrals, using lower-order integrals as the building blocks.\n",
    "  3. Confirm whether the $\\sin$ function is really its own fourth derivative, using what built both for (1) and for (2).\n",
    "  4. Confirm whether the exponential function really is its own derivative, using what you built for both (1) and (2).\n",
    "  5. Observe how the patter of errors varies, and induce catastrophic numerical errors if possible, for either (3) or (4), using one or some combination of the following methods:\n",
    "      1. Taking a very high-order derivative.\n",
    "      2. Taking a very high-order integral.\n",
    "      3. Taking some derivatives, and then integrating by the same order, back and forth, perhaps a large number of times.\n",
    "    \n",
    "*Bonus:* Complete some of the steps above with a third, different function that you think has derivatives/integrals with interesting properties."
   ]
  },
  {
   "cell_type": "code",
   "execution_count": null,
   "id": "8fee9ff4-9329-4bbd-b235-20da5e12f5c5",
   "metadata": {},
   "outputs": [],
   "source": []
  }
 ],
 "metadata": {
  "kernelspec": {
   "display_name": "Python 3 (ipykernel)",
   "language": "python",
   "name": "python3"
  },
  "language_info": {
   "codemirror_mode": {
    "name": "ipython",
    "version": 3
   },
   "file_extension": ".py",
   "mimetype": "text/x-python",
   "name": "python",
   "nbconvert_exporter": "python",
   "pygments_lexer": "ipython3",
   "version": "3.12.1"
  }
 },
 "nbformat": 4,
 "nbformat_minor": 5
}
