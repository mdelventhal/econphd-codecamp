{
 "cells": [
  {
   "cell_type": "markdown",
   "id": "af9ffbb2-4507-4760-8b92-dce28fad07bb",
   "metadata": {},
   "source": [
    "# Practical exercise: Central Limit Theorem\n",
    "\n",
    "Recall that the Central Limit Theorem states that the distribution of sample means for $N$ samples of size $n$ drawn from any random variable $X$ will approach a normal distribution as $N$ increases without bound. Formally, if ${\\bf E} [X] = \\mu$ and $\\text{Var} [X] = \\sigma^2$:\r\n",
    "\r\n",
    "$$ \\frac{1}{n} \\sum\\limits_{i=1}^n X_i \\xrightarrow[]{d} \\mathcal{N} \\left(\\mu,\\frac{\\sigma^2}{n}\\right) \n",
    "\n",
    "This should hold regardless of the distribution of $X$.\n",
    "\n",
    "Your task is to construct a visual and/or numerical proof of this theorem. As part of your answer, you should demonstrate directly that the Central Limit Theorem holds for samples drawn from at least the following two distributions:\n",
    "  1. standard uniform\n",
    "  2. standard $$"
   ]
  },
  {
   "cell_type": "code",
   "execution_count": null,
   "id": "844057da-10c8-45e0-9612-db4817dac9ad",
   "metadata": {},
   "outputs": [],
   "source": []
  }
 ],
 "metadata": {
  "kernelspec": {
   "display_name": "Python 3 (ipykernel)",
   "language": "python",
   "name": "python3"
  },
  "language_info": {
   "codemirror_mode": {
    "name": "ipython",
    "version": 3
   },
   "file_extension": ".py",
   "mimetype": "text/x-python",
   "name": "python",
   "nbconvert_exporter": "python",
   "pygments_lexer": "ipython3",
   "version": "3.12.1"
  }
 },
 "nbformat": 4,
 "nbformat_minor": 5
}
