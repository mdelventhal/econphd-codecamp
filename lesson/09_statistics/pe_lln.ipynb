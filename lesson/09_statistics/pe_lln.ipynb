{
 "cells": [
  {
   "cell_type": "markdown",
   "id": "dac0baf2-d1e6-48c9-868b-7462e3d65d5a",
   "metadata": {},
   "source": [
    "# Proving the Law of Large Numbers\n",
    "\n",
    "The Law of Large Numbers states that for $n$ independent draws from any random variable $X$, $$\\lim\\limits_{n\\to\\infty} \\frac{1}{n} \\sum\\limits_{i=1}^n X_i = \\mathbf{E} \\left [ X \\right ] $$\n",
    "\n",
    "A corollary of the law is that $$\\text{Var} \\left [ \\frac{1}{n} \\sum\\limits_{i=1}^n X_i \\right ] = \\frac{1}{n} \\text{Var} \\left [X \\right] $$\n",
    "\n",
    "Contruct rough visual and/or numerical proofs that both the law and the corollary hold for:\n",
    "  1. an arbitrary standard uniform distributed variable\n",
    "  2. the fraction of draws between 0 and 0.2 for a sample of 10 draws from a standar uniform distributed variable (this quantity is itself a random variable)\n",
    "  3. the elevation at which a CA wildfire occurs between 2014 and 2023"
   ]
  },
  {
   "cell_type": "code",
   "execution_count": null,
   "id": "911c9d6c-2671-4905-a2b4-39995a46028d",
   "metadata": {},
   "outputs": [],
   "source": []
  }
 ],
 "metadata": {
  "kernelspec": {
   "display_name": "Python 3 (ipykernel)",
   "language": "python",
   "name": "python3"
  },
  "language_info": {
   "codemirror_mode": {
    "name": "ipython",
    "version": 3
   },
   "file_extension": ".py",
   "mimetype": "text/x-python",
   "name": "python",
   "nbconvert_exporter": "python",
   "pygments_lexer": "ipython3",
   "version": "3.12.1"
  }
 },
 "nbformat": 4,
 "nbformat_minor": 5
}
