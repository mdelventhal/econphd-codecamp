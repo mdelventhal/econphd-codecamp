{
 "cells": [
  {
   "cell_type": "markdown",
   "id": "61268ea6-ddea-4071-a6e0-54e6254c8c28",
   "metadata": {},
   "source": [
    "# Measuring computational performance\n",
    "\n",
    "There are two main dimensions of computational performance: execution time and memory usage. The one which you'll usually run into trouble with first, and which also happens to be easier to measure, is execution time. In this notebook we'll review some simple techniques for measuring execution time, and some very basic related Computer Science concepts.\n",
    "\n",
    "## An illustrative example: sorting names\n",
    "\n",
    "In the cell below, you'll find a list of names. We will use the alphabetical sorting of these names as an example of a task whose execution time we might want to measure."
   ]
  },
  {
   "cell_type": "code",
   "execution_count": 1,
   "id": "75c89c58-8ca9-4afd-bcd1-48367f6385db",
   "metadata": {},
   "outputs": [],
   "source": [
    "list_of_names = ['Boyang','Aaron','Tianqi','Ivan','Hasan',\n",
    "                 'Maryan','Neil','Yuto','Hao','Dimas',\n",
    "                 'Deven','Carsten']"
   ]
  },
  {
   "cell_type": "markdown",
   "id": "3d9be59e-b02a-46fd-be2c-f5c392e16479",
   "metadata": {},
   "source": [
    "In the cell below, we define two functions:\n",
    "  - `string_leq` returns `True` if the first string alphabetically precedes (or is the same as) the second string, and `False` otherwise\n",
    "  - `string_list_sort` uses `string_leq` in a primitive sorting algorithm to alphabetize a list of strings\n",
    "\n",
    "Notice that Python can already compare single characters using `>,=,<`, which we will take advantage of. Actually, it can also compare whole strings, but in order to make things more interesting, we do not take advantage of this functionality in this initial example."
   ]
  },
  {
   "cell_type": "code",
   "execution_count": 12,
   "id": "1cecd073-b69c-4030-97d3-6d1875eee49b",
   "metadata": {},
   "outputs": [
    {
     "data": {
      "text/plain": [
       "['Aaron',\n",
       " 'Boyang',\n",
       " 'Carsten',\n",
       " 'Deven',\n",
       " 'Dimas',\n",
       " 'Hao',\n",
       " 'Hasan',\n",
       " 'Ivan',\n",
       " 'Maryan',\n",
       " 'Neil',\n",
       " 'Tianqi',\n",
       " 'Yuto']"
      ]
     },
     "execution_count": 12,
     "metadata": {},
     "output_type": "execute_result"
    }
   ],
   "source": [
    "## Test if the first string alphabetically precedes the second string\n",
    "def string_leq(stringa,stringb):\n",
    "    alen = len(stringa)\n",
    "    blen = len(stringb)\n",
    "    for i in range(alen):\n",
    "        if (i + 1) > blen:\n",
    "            return False\n",
    "        elif stringa[i] < stringb[i]:\n",
    "            return True\n",
    "        elif stringa[i] > stringb[i]:\n",
    "            return False\n",
    "    return True\n",
    "\n",
    "## Sort strings, using a primitive algorithm and the primitive string-comparison function from above\n",
    "def string_list_sort(a_list):\n",
    "    sorted = []\n",
    "    for current_string in a_list:\n",
    "        position = 0\n",
    "        while position < len(sorted):\n",
    "            if string_leq(current_string,sorted[position]):\n",
    "                break\n",
    "            position += 1\n",
    "        sorted = sorted[0:position] + [current_string] + sorted[position:]\n",
    "    return sorted\n",
    "\n",
    "string_list_sort(list_of_names)"
   ]
  },
  {
   "cell_type": "markdown",
   "id": "5ae9e1a9-cf8c-48b3-8059-9802d9caf418",
   "metadata": {},
   "source": [
    "One way to measure execution time which will work in almost any programming language is to use the clock's timer directly. In Python, to do this we should import the `time` library.\n",
    "\n",
    "The difference between two timepoints will by default be given in seconds.\n",
    "\n",
    "If we use this primitive method on an operation which completes very quickly, we might want to use a loop to repeat it many times, to minimize measurement error."
   ]
  },
  {
   "cell_type": "code",
   "execution_count": 13,
   "id": "2cac84e8-2034-4f61-a78c-bcb528b1b089",
   "metadata": {},
   "outputs": [
    {
     "name": "stdout",
     "output_type": "stream",
     "text": [
      "Time for 1 run: 0.0000000000000000 seconds.\n",
      "Time for 1,000 runs: 0.0438826084136963 seconds.\n",
      "Average time per run: 0.0000438826084137 seconds.\n",
      "Time for 10,000 runs: 0.4178805351257324 seconds.\n",
      "Average time per run: 0.0000417880535126 seconds.\n"
     ]
    }
   ],
   "source": [
    "import time\n",
    "\n",
    "start_time = time.time()\n",
    "sorted_names = string_list_sort(list_of_names)\n",
    "end_time = time.time()\n",
    "\n",
    "print(f'Time for 1 run: {end_time-start_time:.16f} seconds.')\n",
    "\n",
    "Nruns = 1000\n",
    "start_time = time.time()\n",
    "for j in range(Nruns):\n",
    "    sorted_names = string_list_sort(list_of_names)\n",
    "end_time = time.time()\n",
    "\n",
    "print(f'Time for {Nruns:,d} runs: {end_time-start_time:.16f} seconds.')\n",
    "print(f'Average time per run: {(end_time-start_time)/Nruns:.16f} seconds.')\n",
    "\n",
    "Nruns = 10000\n",
    "start_time = time.time()\n",
    "for j in range(Nruns):\n",
    "    sorted_names = string_list_sort(list_of_names)\n",
    "end_time = time.time()\n",
    "\n",
    "print(f'Time for {Nruns:,d} runs: {end_time-start_time:.16f} seconds.')\n",
    "print(f'Average time per run: {(end_time-start_time)/Nruns:.16f} seconds.')\n",
    "\n"
   ]
  },
  {
   "cell_type": "markdown",
   "id": "a376e7bb-7714-4f60-a08f-8b8b3f7763e7",
   "metadata": {},
   "source": [
    "When using Jupyter notebooks, an easier and more accurate way to measure execution time is with the `%%time` cell magic and the `%timeit` line magic commands.\n",
    "\n",
    "`%%time` as the first list in a cell will measure the execution time of all the code in the cell, for one go.\n",
    "\n",
    "`%timeit` followed by a line of code will repeat the execution of that line several times (many times, to increase accuracy, if execution is fast), and return the average execution time."
   ]
  },
  {
   "cell_type": "code",
   "execution_count": 14,
   "id": "2373f300-f984-4c2b-9e38-1e57c7a0bfd3",
   "metadata": {},
   "outputs": [
    {
     "name": "stdout",
     "output_type": "stream",
     "text": [
      "Time for 10,000 runs: 0.4236965179443359 seconds.\n",
      "Average time per run: 0.0000423696517944 seconds.\n",
      "CPU times: total: 422 ms\n",
      "Wall time: 425 ms\n"
     ]
    }
   ],
   "source": [
    "%%time\n",
    "\n",
    "start_time = time.time()\n",
    "for j in range(Nruns):\n",
    "    sorted_names = string_list_sort(list_of_names)\n",
    "end_time = time.time()\n",
    "\n",
    "print(f'Time for {Nruns:,d} runs: {end_time-start_time:.16f} seconds.')\n",
    "print(f'Average time per run: {(end_time-start_time)/Nruns:.16f} seconds.')\n"
   ]
  },
  {
   "cell_type": "code",
   "execution_count": 15,
   "id": "ecf157b5-30d5-4c22-a4c3-62970097f74f",
   "metadata": {},
   "outputs": [
    {
     "name": "stdout",
     "output_type": "stream",
     "text": [
      "37.8 µs ± 1.22 µs per loop (mean ± std. dev. of 7 runs, 10,000 loops each)\n"
     ]
    }
   ],
   "source": [
    "%timeit sorted_names = string_list_sort(list_of_names)"
   ]
  },
  {
   "cell_type": "markdown",
   "id": "726c8112-4a02-4853-908a-faaeb7e7dc03",
   "metadata": {},
   "source": [
    "As we can see, the answers here aren't too far off from what we get with the primitive method. And they also have random variation. But they are convenient and they also give us some additional information which is sometimes useful.\n",
    "\n",
    "### Comparing with Python built-in functions\n",
    "\n",
    "Sorting algorithms are the bread-and-butter of introductory computer science courses and have been very thoroughly studied and optimized. Python has built-in capability to sort lists of numbers and strings, which might be better-optimized than the quick, easy algorithm we coded above.\n",
    "\n",
    "The built-in sorting function is `sorted()`. Let's see how it does:"
   ]
  },
  {
   "cell_type": "code",
   "execution_count": 16,
   "id": "d87c3b9f-03ea-48bd-b642-ad62af880189",
   "metadata": {},
   "outputs": [
    {
     "name": "stdout",
     "output_type": "stream",
     "text": [
      "['Aaron', 'Boyang', 'Carsten', 'Deven', 'Dimas', 'Hao', 'Hasan', 'Ivan', 'Maryan', 'Neil', 'Tianqi', 'Yuto']\n"
     ]
    }
   ],
   "source": [
    "print(sorted(list_of_names))"
   ]
  },
  {
   "cell_type": "code",
   "execution_count": 17,
   "id": "cacdc2c4-5e02-4866-9955-8fe5c425a0cf",
   "metadata": {},
   "outputs": [
    {
     "name": "stdout",
     "output_type": "stream",
     "text": [
      "43.4 µs ± 5.18 µs per loop (mean ± std. dev. of 7 runs, 10,000 loops each)\n",
      "501 ns ± 5.46 ns per loop (mean ± std. dev. of 7 runs, 1,000,000 loops each)\n"
     ]
    }
   ],
   "source": [
    "%timeit sorted_names = string_list_sort(list_of_names)\n",
    "\n",
    "%timeit sorted_names = sorted(list_of_names)"
   ]
  },
  {
   "cell_type": "markdown",
   "id": "54b10397-9a96-4bfe-bc06-7d3de0e1ad40",
   "metadata": {},
   "source": [
    "Our algorithm takes about 30 microseconds, whereas the built-in algorithm takes around 340 *nano*seconds. Three time 340 nanoseconds is approximately 1 microsecond, which means the built-in Python algorithm is about 90 times faster.\n",
    "\n",
    "There are many reasons for this. To point out a couple of the ways in which our algorithm is sub-optimal:\n",
    "  - it uses loops which in Python use a lot of overhead to manage\n",
    "  - our algorithm has a nested loop which goes through the entire list, and then checks each element against each already-sorted element. There are algorithms which can achieve sorting using many fewer comparisons.\n",
    "\n",
    "If you want to learn about sorting algorithms, take a computer science course! Or look them up on the internet--there's a lot of good free material.\n",
    "\n",
    "### Performance variation on larger and larger inputs\n",
    "\n",
    "A key aspect of an algorithm's execution time is how it will increase as the size of the input increases. Suppose we double the size of the list to be sorted. Will this:\n",
    "  - double the execution time?\n",
    "  - *less than* double the execution time?\n",
    "  - *more than* double the execution time?\n",
    "\n",
    "The answer can be different for every algorithm. Let's test it out with the two that we have:"
   ]
  },
  {
   "cell_type": "code",
   "execution_count": 18,
   "id": "cde8a478-877b-4f0b-ad0f-1153e6f8b0f7",
   "metadata": {},
   "outputs": [
    {
     "name": "stdout",
     "output_type": "stream",
     "text": [
      "3.16 ms ± 138 µs per loop (mean ± std. dev. of 7 runs, 100 loops each)\n",
      "9.49 µs ± 1.65 µs per loop (mean ± std. dev. of 7 runs, 100,000 loops each)\n"
     ]
    }
   ],
   "source": [
    "%timeit sorted_names = string_list_sort(list_of_names*10)\n",
    "\n",
    "%timeit sorted_names = sorted(list_of_names*10)"
   ]
  },
  {
   "cell_type": "markdown",
   "id": "724e817c-1fc3-4f57-9c3f-2876ed10efeb",
   "metadata": {},
   "source": [
    "In the case of our custom algorithm, multiplying the input size by 10 increased our execution time to 2.3 milliseconds, which is 2,300 *micro*seconds. In otherwords, it multiplied execution time by *a bit less than 100*--or $10^2$. This indicates that the *time complexity*, using \"Big O\" notation, is a bit less than $O(n^2)$.\n",
    "\n",
    "It is not surprising that execution time scales by roughly the square if input size, because of the nested loop structure of our algorithm--it goes through the whole list, and then checks each element against each element in the sorted list.\n",
    "\n",
    "In constrast, the built-in algorithm has a time complexity much closer to $O(n)$: after increasing the input size by 10, the execution time was multiplied by 10 or 20.\n",
    "\n",
    "If we had to sort a very long list, our custom algorithm would become infeasible at a point when the performance of the built-in algorithm would still be very strong.\n",
    "\n",
    "Let's try multiplying the input size by 500:\n",
    "\n"
   ]
  },
  {
   "cell_type": "code",
   "execution_count": 19,
   "id": "69a3c28c-7242-4be4-8802-55cf47ed5997",
   "metadata": {},
   "outputs": [
    {
     "name": "stdout",
     "output_type": "stream",
     "text": [
      "7.09 s ± 155 ms per loop (mean ± std. dev. of 7 runs, 1 loop each)\n",
      "639 µs ± 7.11 µs per loop (mean ± std. dev. of 7 runs, 1,000 loops each)\n"
     ]
    }
   ],
   "source": [
    "%timeit sorted_names = string_list_sort(list_of_names*500)\n",
    "\n",
    "%timeit sorted_names = sorted(list_of_names*500)"
   ]
  },
  {
   "cell_type": "markdown",
   "id": "a2e60e22-5fa0-4e34-805a-6de65cf2e92e",
   "metadata": {},
   "source": [
    "Execution time for our custom algorithm is now *several* whole seconds. The built-in algorithm still sorts this list of 6,000 names in just about 1 half of 1 thousandth of a second: faster than we're even able to notice.\n",
    "\n",
    "### Performance variation with *pattern* of input\n",
    "\n",
    "Sometimes it is not just the size of the input but patterns exhibited by the input that can increase execution time.\n",
    "\n",
    "Consider string comparisons, for example. The number of characters that must be considered to pick a \"winner\" is variable. If the first character is the same, the second is a tie-breaker, and if the second is the same, the third, etc.\n",
    "\n",
    "Our string-comparison function that we've written takes this very simple, linear approach. But so far it hasn't had any need to go beyond the first characters: all the names in the list we've been sorting start with different letters.\n",
    "\n",
    "What if we had names which were much more similar?\n",
    "\n",
    "Below we have two more lists of 12 names. For the first list, all elements share the first 2 letters. For the second, they share the first 4."
   ]
  },
  {
   "cell_type": "code",
   "execution_count": 20,
   "id": "dc226a7f-c61b-4031-9177-7c790cc47b0e",
   "metadata": {},
   "outputs": [],
   "source": [
    "\n",
    "\n",
    "list_of_ja_names = ['Jay','Jade','James','Jana','Jaan',\n",
    "                        'Jack','Jackson','Jacob','Jane','Jason',\n",
    "                        'Jasper','Jayden']\n",
    "\n",
    "\n",
    "list_of_mich_names = ['Michaela','Michela','Michelle','Michaella','Michaiah',\n",
    "                      'Michaelia','Michalina','Miche','Michelina','Michael',\n",
    "                      'Michigan','Michelin'\n",
    "]"
   ]
  },
  {
   "cell_type": "markdown",
   "id": "b16cb0a0-cdad-4dde-b060-a877fb1e2713",
   "metadata": {},
   "source": [
    "### Quick exercise for measuring performance:\n",
    " - Test how the performance of the custom algorithm changes for the different lists of names. Does the pattern make sense? How would you explain it?\n",
    " - Test how the performance of the Python built-in algorithm changes for the different lists of names. Does the pattern make sense? How would you explain it?\n"
   ]
  },
  {
   "cell_type": "code",
   "execution_count": null,
   "id": "e352d240-d59e-41f7-b8cb-129e4d5b4749",
   "metadata": {},
   "outputs": [],
   "source": []
  }
 ],
 "metadata": {
  "kernelspec": {
   "display_name": "Python 3 (ipykernel)",
   "language": "python",
   "name": "python3"
  },
  "language_info": {
   "codemirror_mode": {
    "name": "ipython",
    "version": 3
   },
   "file_extension": ".py",
   "mimetype": "text/x-python",
   "name": "python",
   "nbconvert_exporter": "python",
   "pygments_lexer": "ipython3",
   "version": "3.12.1"
  }
 },
 "nbformat": 4,
 "nbformat_minor": 5
}
