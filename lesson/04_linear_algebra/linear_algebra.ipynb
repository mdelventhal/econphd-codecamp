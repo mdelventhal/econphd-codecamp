{
 "cells": [
  {
   "cell_type": "markdown",
   "id": "9c31f5a5-ffcc-41b0-8f60-62405a50c15e",
   "metadata": {},
   "source": [
    "# Linear Algebra\n",
    "\n",
    "The NumPy package probably offers the most straightforward way to use linear algebra.\n",
    "\n",
    "As we mentioned before, it gives you the option of defining numerical arrays and matrices. The main difference between an array and a matrix is this:\n",
    "\n",
    "**Multiplication**:\n",
    " - For a *NumPy array*, `*` performs element-wise multiplication, and `@` performs matrix multiplication (for Python $\\geq$3.5. `numpy.dot()` works with all versions of Python and does the same thing.)\n",
    " - For a *NumPy matrix*, `*` performs matrix multiplication. If you want element-wise multiplication, you should use `numpy.multiply()`.\n",
    " - `numpy.dot()` performs matrix multiplication for both matrices and arrays, and `numpy.multiply()` performs element-wise multiplication for both.\n",
    "\n",
    "**Matrix power**:\n",
    " - For a *NumPy array*, `**` performs element-wise exponentiation, and `numpy.linalg.matrix_power()` calculates the matrix power.\n",
    " - For a *NumPy matrix*, `**` calculates the matrix power, while `numpy.power()` raises each element to a power.\n",
    " - `numpy.linalg.matrix_power()` and `numpy.power()` each have the same effect on each type.\n",
    "\n",
    "Let's try it out:"
   ]
  },
  {
   "cell_type": "code",
   "execution_count": 1,
   "id": "72207973-41f0-4f20-a0ac-cf00a40f5eca",
   "metadata": {},
   "outputs": [
    {
     "name": "stdout",
     "output_type": "stream",
     "text": [
      "Multiplication:\n",
      "\n",
      "array, with `*` operator\n",
      "[[1 4 9]\n",
      " [4 9 1]\n",
      " [4 1 9]]\n",
      "\n",
      "array, with `@` operator\n",
      "[[11 11 14]\n",
      " [10 14 12]\n",
      " [10 10 16]]\n",
      "\n",
      "array, `numpy.multiply`\n",
      "[[1 4 9]\n",
      " [4 9 1]\n",
      " [4 1 9]]\n",
      "\n",
      "array, `numpy.dot`\n",
      "[[11 11 14]\n",
      " [10 14 12]\n",
      " [10 10 16]]\n",
      "\n",
      "Powers:\n",
      "\n",
      "array, with `**` operator\n",
      "[[1 4 9]\n",
      " [4 9 1]\n",
      " [4 1 9]]\n",
      "\n",
      "array, with `numpy.linalg.matrix_power`\n",
      "[[11 11 14]\n",
      " [10 14 12]\n",
      " [10 10 16]]\n",
      "\n"
     ]
    }
   ],
   "source": [
    "import numpy as np\n",
    "\n",
    "\n",
    "A_array = np.array([[1,2,3],\n",
    "                     [2,3,1],\n",
    "                     [2,1,3]\n",
    "                    ])\n",
    "\n",
    "\n",
    "print('Multiplication:')\n",
    "print('')\n",
    "\n",
    "print('array, with `*` operator')\n",
    "print(A_array*A_array)\n",
    "print('')\n",
    "\n",
    "print('array, with `@` operator')\n",
    "print(A_array@A_array)\n",
    "print('')\n",
    "\n",
    "print('array, `numpy.multiply`')\n",
    "print(np.multiply(A_array,A_array))\n",
    "print('')\n",
    "\n",
    "print('array, `numpy.dot`')\n",
    "print(np.dot(A_array,A_array))\n",
    "print('')\n",
    "\n",
    "print('Powers:')\n",
    "print('')\n",
    "\n",
    "print('array, with `**` operator')\n",
    "print(A_array**2)\n",
    "print('')\n",
    "\n",
    "\n",
    "print('array, with `numpy.linalg.matrix_power`')\n",
    "print(np.linalg.matrix_power(A_array,2))\n",
    "print('')\n"
   ]
  },
  {
   "cell_type": "code",
   "execution_count": 2,
   "id": "77ce0a6e-8f83-41c9-81a6-61ff74136e88",
   "metadata": {},
   "outputs": [
    {
     "name": "stdout",
     "output_type": "stream",
     "text": [
      "Multiplication:\n",
      "\n",
      "matrix, with `*` operator\n",
      "[[11 11 14]\n",
      " [10 14 12]\n",
      " [10 10 16]]\n",
      "\n",
      "matrix, with `@` operator\n",
      "[[11 11 14]\n",
      " [10 14 12]\n",
      " [10 10 16]]\n",
      "\n",
      "matrix, `numpy.multiply`\n",
      "[[1 4 9]\n",
      " [4 9 1]\n",
      " [4 1 9]]\n",
      "\n",
      "matrix, `numpy.dot`\n",
      "[[11 11 14]\n",
      " [10 14 12]\n",
      " [10 10 16]]\n",
      "\n",
      "Powers:\n",
      "\n",
      "matrix, with `**` operator\n",
      "[[11 11 14]\n",
      " [10 14 12]\n",
      " [10 10 16]]\n",
      "\n",
      "matrix, with `numpy.power`\n",
      "[[1 4 9]\n",
      " [4 9 1]\n",
      " [4 1 9]]\n",
      "\n"
     ]
    }
   ],
   "source": [
    "import numpy as np\n",
    "\n",
    "A_matrix = np.matrix([[1,2,3],\n",
    "                     [2,3,1],\n",
    "                     [2,1,3]\n",
    "                    ])\n",
    "\n",
    "\n",
    "print('Multiplication:')\n",
    "print('')\n",
    "\n",
    "print('matrix, with `*` operator')\n",
    "print(A_matrix*A_matrix)\n",
    "print('')\n",
    "\n",
    "print('matrix, with `@` operator')\n",
    "print(A_matrix@A_matrix)\n",
    "print('')\n",
    "\n",
    "print('matrix, `numpy.multiply`')\n",
    "print(np.multiply(A_matrix,A_matrix))\n",
    "print('')\n",
    "\n",
    "print('matrix, `numpy.dot`')\n",
    "print(np.dot(A_matrix,A_matrix))\n",
    "print('')\n",
    "\n",
    "\n",
    "\n",
    "print('Powers:')\n",
    "print('')\n",
    "\n",
    "print('matrix, with `**` operator')\n",
    "print(A_matrix**2)\n",
    "print('')\n",
    "\n",
    "\n",
    "print('matrix, with `numpy.power`')\n",
    "print(np.power(A_matrix,2))\n",
    "print('')\n"
   ]
  },
  {
   "cell_type": "markdown",
   "id": "a3bbbbfa-6032-4fb3-858e-2ebf1a71534c",
   "metadata": {},
   "source": [
    "## Other simple linear algebra operations\n",
    "\n",
    "Both array and matrices can be transposed using the same methods: either `.T` or `.transpose()` or `numpy.transpose()`. For example:"
   ]
  },
  {
   "cell_type": "code",
   "execution_count": 3,
   "id": "c6263d92-1a83-4ea0-a0f5-9d86cd69e7c7",
   "metadata": {},
   "outputs": [
    {
     "name": "stdout",
     "output_type": "stream",
     "text": [
      "[[1 2 2]\n",
      " [2 3 1]\n",
      " [3 1 3]]\n",
      "[[1 2 2]\n",
      " [2 3 1]\n",
      " [3 1 3]]\n",
      "[[1 2 2]\n",
      " [2 3 1]\n",
      " [3 1 3]]\n"
     ]
    }
   ],
   "source": [
    "print(A_array.T)\n",
    "\n",
    "print(A_array.transpose())\n",
    "\n",
    "print(np.transpose(A_matrix))"
   ]
  },
  {
   "cell_type": "markdown",
   "id": "9d783adb-6bbf-4a9f-aa65-5f33a770e85f",
   "metadata": {},
   "source": [
    "The determinant can be computed using the `numpy.linalg.det()` function:"
   ]
  },
  {
   "cell_type": "code",
   "execution_count": 4,
   "id": "76648579-635c-44db-9908-5ff116cc66a9",
   "metadata": {},
   "outputs": [
    {
     "data": {
      "text/plain": [
       "-12.0"
      ]
     },
     "execution_count": 4,
     "metadata": {},
     "output_type": "execute_result"
    }
   ],
   "source": [
    "np.linalg.det(A_array)"
   ]
  },
  {
   "cell_type": "markdown",
   "id": "cd3c320c-5aaf-4e96-91d5-da4c77620819",
   "metadata": {},
   "source": [
    "This matrix has a non-zero determinant, which should mean that it's invertible. Let's check:"
   ]
  },
  {
   "cell_type": "code",
   "execution_count": 5,
   "id": "24d21110-22d4-43f4-8f52-63a646d27239",
   "metadata": {},
   "outputs": [
    {
     "data": {
      "text/plain": [
       "matrix([[-0.66666667,  0.25      ,  0.58333333],\n",
       "        [ 0.33333333,  0.25      , -0.41666667],\n",
       "        [ 0.33333333, -0.25      ,  0.08333333]])"
      ]
     },
     "execution_count": 5,
     "metadata": {},
     "output_type": "execute_result"
    }
   ],
   "source": [
    "A_matrix**(-1)"
   ]
  },
  {
   "cell_type": "markdown",
   "id": "348c83f8-4ea3-49b2-9471-bdbdac1baa66",
   "metadata": {},
   "source": [
    "## Solving systems of linear equations\n",
    "\n",
    "Consider the following non-homogeneous system of equations:\n",
    "\n",
    "$$ \\mathbf{A} \\phi = \\mathbf{b},$$\n",
    "\n",
    "where\n",
    "\n",
    "$$\n",
    "\\begin{align}\n",
    "\\underset{3 \\times 3}{\\mathbf{A}} &= \\begin{bmatrix} \n",
    "a_{11} & a_{12} & a_{13} \\\\\n",
    "a_{21} & a_{22} & a_{23} \\\\\n",
    "a_{31} & a_{32} & a_{33} \n",
    "\\end{bmatrix},\\\\\\\\\n",
    "\\underset{3\\times 1}{\\mathbf{b}} &= \\begin{bmatrix} \n",
    "b_{1}  \\\\\n",
    "b_{2}  \\\\\n",
    "b_{3} \n",
    "\\end{bmatrix},\\\\\\\\\n",
    "\\underset{3\\times 1}{\\phi} &= \\begin{bmatrix} \\phi_1 \\\\ \\phi_2 \\\\ \\phi_3 \\end{bmatrix}\n",
    "\\end{align}\n",
    "$$\n",
    "\n",
    "Suppose that the values of the elements of $\\mathbf{A}$ and $\\mathbf{b}$ are given, and you want to solve for $\\phi$.\n",
    "\n",
    "The closed-form characterization of the solution for $\\phi$ is given by:\n",
    "\n",
    "$$ \\begin{align}\\mathbf{A}^{-1} \\mathbf{A} \\phi &= \\mathbf{A}^{-1}\\mathbf{b} \\\\\n",
    "\\\\\n",
    "\\phi &= \\mathbf{A}^{-1}\\mathbf{b}\\end{align}$$\n",
    "\n",
    "There are at least two ways to compute this result:\n",
    "  1. Compute $\\mathbf{A}^{-1}$, then multiply the result by $\\mathbf{b}$.\n",
    "  2. Use a linear equation solver such as `numpy.linalg.lstsq()`, which will *implicitly* invert $\\mathbf{A}$ as part of the algorithm which produces the solution (but which will only return the solution and not the inverse of $\\mathbf{A}$).\n",
    "\n",
    "Option (2) is usually preferred because it is less prone to numerical errors. The reason is that if you compute the inverse separately first, as in Option (1), in some instances there will be substantial numerical errors in the calculations. These errors will then get compounded if you store the values with the errors and then perform a whole new set of calculations for the matrix multiplication.\n",
    "\n",
    "On the other hand, Option (2) involves a smaller number of calculations overall and does not store the result of the inverse mid-way, and so will often but subject to less numerical error.\n",
    "\n",
    "In many cases where the matrix is not \"ill-conditioned\" and thus calculating the inverse is subject to less numerical error, the two methods will produce nearly identical results.\n",
    "\n",
    "Below we can see an example."
   ]
  },
  {
   "cell_type": "code",
   "execution_count": 12,
   "id": "dc9e6f3b-014c-4360-8279-2b4b688975ef",
   "metadata": {},
   "outputs": [
    {
     "name": "stdout",
     "output_type": "stream",
     "text": [
      "[[2.08333333]\n",
      " [0.08333333]\n",
      " [0.58333333]]\n",
      "[[2.08333333]\n",
      " [0.08333333]\n",
      " [0.58333333]]\n"
     ]
    },
    {
     "name": "stderr",
     "output_type": "stream",
     "text": [
      "C:\\Users\\MDelventhal\\AppData\\Local\\Temp\\ipykernel_264\\396329720.py:9: FutureWarning: `rcond` parameter will change to the default of machine precision times ``max(M, N)`` where M and N are the input matrix dimensions.\n",
      "To use the future default and silence this warning we advise to pass `rcond=None`, to keep using the old, explicitly pass `rcond=-1`.\n",
      "  phi_estimate_2 = np.linalg.lstsq(A,b)[0]\n"
     ]
    }
   ],
   "source": [
    "A = np.matrix([[1,2,3],\n",
    "             [2,3,1],\n",
    "             [2,1,3]\n",
    "            ])\n",
    "\n",
    "b = np.matrix([[4],[5],[6]])\n",
    "\n",
    "phi_estimate_1 = (A**(-1))*b\n",
    "phi_estimate_2 = np.linalg.lstsq(A,b)[0]\n",
    "\n",
    "print(phi_estimate_1)\n",
    "\n",
    "print(phi_estimate_2)"
   ]
  },
  {
   "cell_type": "markdown",
   "id": "1aa44fe6-4b6a-4800-88d0-ea5c359ca66f",
   "metadata": {},
   "source": [
    "## Matrix conditioning\n",
    "\n",
    "A matrix that is \"less than full rank\" or \"singular\" has one or more columns that can be represented as a linear combination of other columns.\n",
    "\n",
    "It always has a determinant of 0. It cannot be inverted. Trying to invert a singular matrix is a bit like trying to divide by 0!\n",
    "\n",
    "A matrix that is \"ill-conditioned\" has one or more columns that could *almost* be represented as a linear combination of others, ***but not quite***. One sign of such a matrix is that its determinant will be *close to zero*. It *can* be inverted, *in principle.* In practice, the algorithms we have available to invert such matrices will sometimes produce very large errors.\n",
    "\n",
    "Take the matrix $\\mathbf{A}$ from our example above. Let's use the `numpy.linalg.det()` function to compute its determinant:"
   ]
  },
  {
   "cell_type": "code",
   "execution_count": 13,
   "id": "6ec0a571-f054-42bd-9d1c-e09f778697e8",
   "metadata": {},
   "outputs": [
    {
     "data": {
      "text/plain": [
       "-12.0"
      ]
     },
     "execution_count": 13,
     "metadata": {},
     "output_type": "execute_result"
    }
   ],
   "source": [
    "np.linalg.det(A)"
   ]
  },
  {
   "cell_type": "markdown",
   "id": "49cdfbbd-ba82-4b95-b84e-ee8d74d029ca",
   "metadata": {},
   "source": [
    "A determinant of -12 is a nice, healthy number far away from 0. There should be no significant numerical problems inverting this matrix. Indeed we see in the example above, our two methods for solving the system of equations yield apparently identical results.\n",
    "\n",
    "Now, let's try a different matrix $\\mathbf{D}$:"
   ]
  },
  {
   "cell_type": "code",
   "execution_count": 14,
   "id": "92c248e8-f370-4b27-ab0e-d83fe147af35",
   "metadata": {},
   "outputs": [
    {
     "data": {
      "text/plain": [
       "0.0"
      ]
     },
     "execution_count": 14,
     "metadata": {},
     "output_type": "execute_result"
    }
   ],
   "source": [
    "D = np.matrix([[1,2,3],\n",
    "             [1,2,3],\n",
    "             [1,2,3]\n",
    "            ])\n",
    "np.linalg.det(D)"
   ]
  },
  {
   "cell_type": "markdown",
   "id": "cdf53222-254c-42b7-afc2-d0aefbaed78b",
   "metadata": {},
   "source": [
    "The columns of $\\mathbf{D}$ are not just linearly dependent, they are identical! Of course its determinant is zero. Attempting to invert it will return an error.\n",
    "\n",
    "How above this next matrix, $\\mathbf{G}$?"
   ]
  },
  {
   "cell_type": "code",
   "execution_count": 16,
   "id": "240e9de6-a946-4ee1-a928-c714b57a29fc",
   "metadata": {},
   "outputs": [
    {
     "data": {
      "text/plain": [
       "8.881784197001204e-17"
      ]
     },
     "execution_count": 16,
     "metadata": {},
     "output_type": "execute_result"
    }
   ],
   "source": [
    "G = np.matrix([[1,2,3],\n",
    "             [1.1,2.1,2.9],\n",
    "             [0.9,1.9,3.1]\n",
    "            ])\n",
    "np.linalg.det(G)"
   ]
  },
  {
   "cell_type": "markdown",
   "id": "56b45cb0-1e57-47df-9480-14f1f3591fb5",
   "metadata": {},
   "source": [
    "The values of $\\mathbf{G}$ are very close to the values of the singular matrix $\\mathbf{D}$, but they have been shifted a little up or down so that they are not *quite* collinear any more. But the *almost* are. that's why the determinant is very close to zero.\n",
    "\n",
    "Now let's try to solve the following system of equations:\n",
    "\n",
    "$$ \\mathbf{G} \\phi = \\mathbf{b}$$\n",
    "\n",
    "### Quick exercise for matrix conditioning:\n",
    "\n",
    "In the dell below, try finding the solution for $\\phi$ in the above system using both the methods we tried before. Are the two results similar? If they're different, which one do you trust more?"
   ]
  },
  {
   "cell_type": "code",
   "execution_count": 23,
   "id": "8e556287-a602-41da-9a69-03623ff93920",
   "metadata": {},
   "outputs": [
    {
     "name": "stdout",
     "output_type": "stream",
     "text": [
      "[[ 3.175   6.8     8.2   ]\n",
      " [ 0.     -1.     -2.    ]\n",
      " [-0.0125  0.6125  1.2625]]\n",
      "[[-1.68884986e+16]\n",
      " [ 1.35107989e+16]\n",
      " [-3.37769972e+15]]\n",
      "[[-1.30952381]\n",
      " [-0.95238095]\n",
      " [ 2.73809524]]\n",
      "[[15. ]\n",
      " [14.2]\n",
      " [13.8]]\n",
      "[[5. ]\n",
      " [4.5]\n",
      " [5.5]]\n"
     ]
    },
    {
     "name": "stderr",
     "output_type": "stream",
     "text": [
      "C:\\Users\\MDelventhal\\AppData\\Local\\Temp\\ipykernel_264\\2909496062.py:5: FutureWarning: `rcond` parameter will change to the default of machine precision times ``max(M, N)`` where M and N are the input matrix dimensions.\n",
      "To use the future default and silence this warning we advise to pass `rcond=None`, to keep using the old, explicitly pass `rcond=-1`.\n",
      "  phi_estimate_2 = np.linalg.lstsq(G,b)[0]\n"
     ]
    }
   ],
   "source": [
    "print((G**(-1))*G)\n",
    "\n",
    "\n",
    "phi_estimate_1 = (G**(-1))*b\n",
    "phi_estimate_2 = np.linalg.lstsq(G,b)[0]\n",
    "\n",
    "print(phi_estimate_1)\n",
    "print(phi_estimate_2)\n",
    "\n",
    "print(G*phi_estimate_1)\n",
    "\n",
    "print(G*phi_estimate_2)"
   ]
  },
  {
   "cell_type": "markdown",
   "id": "ed7fb51c-6121-45ef-aada-aced812e717f",
   "metadata": {},
   "source": [
    "## Eigenvalues\n",
    "\n",
    "Consider the following geometric sequence:\n",
    "\n",
    "$$\\left \\{\\beta^i \\right \\}_{i=0}^{\\infty}$$\n",
    "\n",
    "How can be tell whether or not the sequence will converge, and $\\lim\\limits_{i\\to\\infty} \\beta^i = 0$?\n",
    "\n",
    "The rule is simple once you know it--we'll have convergence for $\\beta \\in (-1,1)$.\n",
    "\n",
    "Now, what about this next sequence:\n",
    "\n",
    "$$ \\left \\{ \\mathbf{B}^i \\right \\}_{i=0}^{\\infty},$$\n",
    "\n",
    "for $$ \\underset{m \\times n}{\\mathbf{B}} = \\begin{bmatrix} \n",
    "b_{11} & b_{12} & \\dots & b_{1n}\\\\\n",
    "b_{21} & b_{22} & \\dots & b_{2n} \\\\\n",
    "\\vdots & \\vdots & \\ddots & \\vdots \\\\\n",
    "b_{n1} & b_{n2} & \\dots & b_{nn}\n",
    "\\end{bmatrix}$$\n",
    "\n",
    "\n",
    "What will $\\lim\\limits_{i \\to \\infty} \\mathbf{B}^i$ be? And how can we know whether it will converge?\n",
    "\n",
    "It turns out, that if the sequence converges, $$\\lim\\limits_{i \\to \\infty} \\mathbf{B}^i = \\underset{n \\times n}{\\mathbf{0}} = \\begin{bmatrix} \n",
    "0 & 0 & \\dots & 0\\\\\n",
    "0 & 0 & \\dots & 0 \\\\\n",
    "\\vdots & \\vdots & \\ddots & \\vdots \\\\\n",
    "0 & 0 & \\dots & 0\n",
    "\\end{bmatrix}.$$\n",
    "\n",
    "How can we know whether this will occur?\n",
    "\n",
    "The answer turns out to be: It depends on whether the magnitude of the largest eigenvalue of the matrix is bounded strictly between -1 and 1.\n",
    "\n",
    "### But what's an eigenvalue?\n",
    "\n",
    "A quick review: Every square matrix $\\mathbf{A}$ of dimension $n$ has $n$ associated eigenvalues $\\left \\{ \\lambda_i \\right \\}_{i=1}^n$ such that each $\\lambda_i$ solves the equation:\n",
    "\n",
    "$$ \\mathbf{A} \\mathbf{v}_i = \\lambda_i \\mathbf{v}_i $$\n",
    "\n",
    "for some eigenvector $\\mathbf{v}_i$.\n",
    "\n",
    "### How do we solve for eigenvalues?\n",
    "\n",
    "Using computers! But we can get an idea of the solution in the following way:\n",
    "\n",
    "$$\n",
    "\\begin{align}\n",
    "\\mathbf{A} \\mathbf{v}_i &= \\lambda_i \\mathbf{v}_i\\\\\n",
    "&\\iff\\\\\n",
    "\\mathbf{A} \\mathbf{v}_i &= \\lambda_i \\mathbf{I} \\mathbf{v}_i\\\\\n",
    "&\\iff\\\\\n",
    "\\left ( \\mathbf{A} - \\lambda_i \\mathbf{I}  \\right ) \\mathbf{v}_i &= \\mathbf{0}\n",
    "\\end{align}\n",
    "$$\n",
    "\n",
    "The last step above, $\\left ( \\mathbf{A} - \\lambda_i \\mathbf{I}  \\right ) \\mathbf{v}_i = \\mathbf{0}$, is a homogeneous system of equations. It will only have a non-trivial solution for $\\mathbf{v}_i$ if the determinant of $\\mathbf{A} - \\lambda_i \\mathbf{I}$ is equal to zero. Formally, we need that:\n",
    "\n",
    "$$ \\left | \\mathbf{A} - \\lambda_i \\mathbf{I} \\right | = 0$$\n",
    "\n",
    "This is the equation we can use to characterize the solution for eigenvalues, and then, eigenvectors. To make it more concrete, let's look more closely at the 2$\\times$2 case.\n",
    "\n",
    "### The 2$\\times$2 case\n",
    "\n",
    "If our matrix is 2$\\times$2, then our system is:\n",
    "\n",
    "$$ \\begin{align}\\left | \\begin{bmatrix}a_{11} & a_{12}\\\\ a_{21} & a_{22}  \\end{bmatrix} - \\begin{bmatrix}\\lambda_i &0\\\\ 0 & \\lambda_i \\end{bmatrix} \\right | &= 0 \\\\\n",
    "&\\iff\\\\\n",
    "\\left | \\begin{bmatrix}a_{11}- \\lambda_i & a_{12}\\\\ a_{21} & a_{22} - \\lambda_i  \\end{bmatrix}  \\right | &= 0\\\\\n",
    "&\\iff\\\\\n",
    "\\lambda_i^2 - (a_{11} + a_{22}) \\lambda_i + a_{11} a_{22}-a_{12} a_{21} &= 0 \n",
    "\\end{align}$$\n",
    "\n",
    "\n",
    "This should give us 2 eigenvalues (real or complex). Once we have those, we can characterize the eigenvectors.\n",
    "\n",
    "The important thing to remember about eigenvectors is that they are only unique up to a scaling factor. This means that within each vector, the ratios between entries must remain the same, but you can multiply the whole vector by any constant you like.\n",
    "\n",
    "### Calculate eigenvalues/vectors with NumPy\n",
    "\n",
    "The `numpy.linalg.eig()` function will do the trick!\n",
    "\n",
    "Below, see an example with for the $\\mathbf{A}$ which we defined earlier:"
   ]
  },
  {
   "cell_type": "code",
   "execution_count": 10,
   "id": "35bd2e37-35f4-4b8b-8425-819b4146cf49",
   "metadata": {},
   "outputs": [
    {
     "data": {
      "text/plain": [
       "EigResult(eigenvalues=array([-1.,  6.,  2.]), eigenvectors=matrix([[-0.87038828,  0.57735027,  0.11547005],\n",
       "        [ 0.34815531,  0.57735027, -0.80829038],\n",
       "        [ 0.34815531,  0.57735027,  0.57735027]]))"
      ]
     },
     "execution_count": 10,
     "metadata": {},
     "output_type": "execute_result"
    }
   ],
   "source": [
    "A = np.matrix([[1,2,3],\n",
    "             [2,3,1],\n",
    "             [2,1,3]\n",
    "            ])\n",
    "\n",
    "np.linalg.eig(A)"
   ]
  },
  {
   "cell_type": "markdown",
   "id": "f4a99c29-3b22-4e13-b09f-f9d1f7a3791f",
   "metadata": {},
   "source": [
    "### Quick exercise for eigenvalues and geometric sequences\n",
    "\n",
    "Define some 3$\\times$3 matrix whose largest eigenvalue has an absolute value greater than 1. Confirm the size of the largest eigenvalue using `numpy.linalg.det`. Confirm that the geometric sequence which consists of raising this matrix to higher and higher powers diverges.\n",
    "\n",
    "Then, define some 3$\\times$3 matrix whose largest eigenvalue is strictly bounded within $(-1,1)$. Confirm the size of the largest eigenvalue using `numpy.linalg.det`. Confirm that the geometric sequence which consists of raising this matrix to higher and higher powers converges.\n"
   ]
  },
  {
   "cell_type": "code",
   "execution_count": null,
   "id": "1b8eb8a7-ccc3-4a34-a908-7d7fe40452f3",
   "metadata": {},
   "outputs": [],
   "source": []
  }
 ],
 "metadata": {
  "kernelspec": {
   "display_name": "Python 3 (ipykernel)",
   "language": "python",
   "name": "python3"
  },
  "language_info": {
   "codemirror_mode": {
    "name": "ipython",
    "version": 3
   },
   "file_extension": ".py",
   "mimetype": "text/x-python",
   "name": "python",
   "nbconvert_exporter": "python",
   "pygments_lexer": "ipython3",
   "version": "3.12.1"
  }
 },
 "nbformat": 4,
 "nbformat_minor": 5
}
