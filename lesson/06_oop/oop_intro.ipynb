{
 "cells": [
  {
   "cell_type": "markdown",
   "id": "d64e05df-8c41-443d-a48a-cda5abd5764e",
   "metadata": {},
   "source": [
    "# An introduction to object-oriented programming\n",
    "\n",
    "Object-oriented programming (OOP) is a set of patterns and techniques aimed at making it easier to use code without diving deep into its details.\n",
    "\n",
    "When attempting to apply it, this over-arching goal should be kept in mind. At the end of the day, OOP is only a set of tools and they can most definitely be used badly to produce very abstruse and unuseable code. Like any tool, OOP is a means to an end, not an end in itself.\n",
    "\n",
    "## Definitions\n",
    "\n",
    "In object-oriented programming, we design *classes*, which are blueprints of specialized data structures. Classes are a little bit like functions, and a little bit like variables. When you *instantiate* a class, in a similar manner to how you would call a function or initialize a variable, you create an *instance* of the class, which is called an *object*, and is stored in memory.\n",
    "\n",
    "After creating an object, later code can interact with that object a variety of ways.\n",
    "\n",
    "### Characteristics of classes and objects\n",
    "\n",
    "Like a function, a *class* may require or accept some *arguments* when you *instantiate* it.\n",
    "\n",
    "Like a variable, an *object* persists in memory, and may store some data.\n",
    "\n",
    "A special characteristic of *objects* is that they may have attached to them their \"own\" special variables and functions.\n",
    " - a *function* attached to an *object* is called a ***method***\n",
    " - anything else--a variable, another object, etc--attached to an *object* is called an ***attribute***\n",
    "\n",
    "And remember, a *class* is simply a blue-print for an *object*.\n",
    "\n",
    "\n",
    "### Do's and don'ts\n",
    "\n",
    "People have a lot of opinions about OOP and about coding practices in general. Doing it well is as much art as science, and requires experience. In this lesson we will limit ourselves to introducing the basics, which will allow you to understand other people's code which uses OOP, and perhaps to begin to dabble in it yourself.\n",
    "\n",
    "That said, consistent with the overall goal of making code easier to use, we can state **a few characteristics of a well-designed class:**\n",
    " 1. Has a clearly understandable logical purpose.\n",
    " 2. Has attributes that store information related to that purpose.\n",
    " 3. Has methods which perform functions related to that purpose.\n",
    "\n",
    "\n",
    "\n",
    "## Quick illustrative example: ``Hello world''\n",
    "\n",
    "For a quick illustrative example, why not return to the beginning?"
   ]
  },
  {
   "cell_type": "code",
   "execution_count": 85,
   "id": "6499d43f-99a8-4e39-a495-9c09db89675e",
   "metadata": {},
   "outputs": [],
   "source": [
    "import warnings\n",
    "\n",
    "class hello_world():\n",
    "    ## __init__ is a special method which specifies what happens when you instantiate a class.\n",
    "    def __init__(self,word_dict={'hello':'hello','world':'world','connector':', '}):\n",
    "        \n",
    "        ## check if both required entries, for 'hello' and 'world', are in the provided dictionary\n",
    "        if max([x not in word_dict for x in ['hello','world']]):\n",
    "            raise RuntimeError(\"Must provide dictionary entries for 'hello' and 'world' at a minimum.\")\n",
    "\n",
    "        ## store the provided dictionary as an attribute\n",
    "        self.word_dict = word_dict\n",
    "\n",
    "    ## Say something to the world.\n",
    "    ## First check if what you want to say is in the dictionary.\n",
    "    ## Then check if a special connector (like a comma or something) is defined, other than the default space\n",
    "    ## Then put the string together and return it.\n",
    "    def say_to_world(self,word):\n",
    "        if word.lower() not in self.word_dict:\n",
    "            warnings.warn('Word not found in dictionary.')\n",
    "            print(f\"I don't know how to say {word}.\")\n",
    "            return None\n",
    "        connector = ' '\n",
    "        if 'connector' in self.word_dict:\n",
    "            connector = self.word_dict['connector']\n",
    "        return f'{self.word_dict[word.lower()].lower().capitalize()}{connector}{self.word_dict['world']}!'\n",
    "\n",
    "    ## Say \"hello world\" using the `say_to_world` function, and relying on the fact that 'hello' is required to be in the dictionary.\n",
    "    def sayhello(self):\n",
    "        return self.say_to_world('hello')\n",
    "\n"
   ]
  },
  {
   "cell_type": "markdown",
   "id": "6176866c-6849-4b65-94fe-1d728584b06f",
   "metadata": {},
   "source": [
    "In the example above, `hello_world` is defined as a class. `say_to_world` and `sayhello` are *methods*. Passing the `self` argument to each of them allows them to access all the other methods and attributes that are defined with the class. Because of this, for exammple, `sayhello` is able to call `say_to_world` to achieve its purpose.\n",
    "\n",
    "The `__init__` method is a special method which specifies what happens when the class is instantiated. Any arguments that are required by the `__init__` function will be required when ``calling'' the class the instantiate it.\n",
    "\n",
    "Notice that the `__init__` method for `hello_world` stores the dictionary of words as an attribute: `word_dict`. This allows it to be referenced later.\n",
    "\n",
    "Any inputs to a method, including the `__init__` method, that are not stored in attributes, will be ephemeral and accessible only within the context of the function/method call. But storing them in attributes allows them to persist.\n",
    "\n",
    "Let's use our `hello_world` class to instantiate an object, and say hello to the world:"
   ]
  },
  {
   "cell_type": "code",
   "execution_count": 92,
   "id": "d58ed4da-783d-4b52-9483-8bb8f461e13f",
   "metadata": {},
   "outputs": [
    {
     "data": {
      "text/plain": [
       "'Hello, world!'"
      ]
     },
     "execution_count": 92,
     "metadata": {},
     "output_type": "execute_result"
    }
   ],
   "source": [
    "hi_world = hello_world()\n",
    "\n",
    "hi_world.sayhello()"
   ]
  },
  {
   "cell_type": "markdown",
   "id": "00b01d04-f650-4f6d-b363-194dbd5a3657",
   "metadata": {},
   "source": [
    "### Subclasses\n",
    "\n",
    "In Python and some other languages, it is possible to define *subclasses* of a class you've already defined. The subclass will *inherit* all the methods of its parent class, except for those methods which you explicitly redefine. This allows you to extend or specialize an existing class quickly, without copy-pasting the parts of the structure you want to keep.\n",
    "\n",
    "For example, suppose we think *Hello world* is cool, but now we want to say lots of other things to the world, and also maybe do it in more than one language. We can get started by defining a *subclass* `hello_world_onelanguage` which builds off then existing hello world class.\n",
    "\n",
    "For this new subclass, we want to expand on what the `__init__` function does, so we define it anew. Now you are required to provide the name of the language being used as well as a list of common aliases, to be stored as attributes. The new `__init__` function passes the `word_dict` along to the original `__init__` function of the parent class using the `super()` construct. As we know, this will store the provided `word_dict` as an attribute of the object when instantiated.\n",
    "\n",
    "`hello_world_onelanguage` inherits methods `say_to_world` and `sayhello` from its parent, unmodified. It also has the new methods `check_alias` to check if a string matches one of the documented aliases for the name of the language, and `getname` to return the name of the language.\n",
    "\n",
    "Why not just tell the user to pull out the `lang_name` attribute directly? Two reasons:\n",
    "  1. `getname` sounds like what it does and may be easier to remember.\n",
    "  2. `getname` automatically capitalizes the language name--a pattern that we want to encourage the user to use!"
   ]
  },
  {
   "cell_type": "code",
   "execution_count": 93,
   "id": "6d45dac7-e507-402c-b8b9-15defa44f07f",
   "metadata": {},
   "outputs": [
    {
     "name": "stdout",
     "output_type": "stream",
     "text": [
      "Hola mundo!\n",
      "Spanish\n",
      "Is the current language known as castellano? True\n",
      "Is the current language known as Spainish? False\n",
      "I don't know how to say What's up.\n",
      "None\n"
     ]
    },
    {
     "name": "stderr",
     "output_type": "stream",
     "text": [
      "C:\\Users\\MDelventhal\\AppData\\Local\\Temp\\ipykernel_33368\\1149072036.py:20: UserWarning: Word not found in dictionary.\n",
      "  warnings.warn('Word not found in dictionary.')\n"
     ]
    }
   ],
   "source": [
    "class hello_world_onelanguage(hello_world):\n",
    "    def __init__(self,lang_name,lang_aliases,word_dict):\n",
    "        self.lang_name = lang_name.lower()\n",
    "        self.lang_aliases = [x.lower() for x in lang_aliases]\n",
    "        super().__init__(word_dict=word_dict)\n",
    "\n",
    "    def check_alias(self,name_to_check):\n",
    "        return name_to_check.lower() in [self.lang_name] + self.lang_aliases\n",
    "\n",
    "    def getname(self):\n",
    "        return self.lang_name.lower().capitalize()\n",
    "\n",
    "hiworld_spanish = hello_world_onelanguage('spanish',['espanol','castellano'],dict(hello='hola',world='mundo'))\n",
    "\n",
    "print(hiworld_spanish.sayhello())\n",
    "\n",
    "print(hiworld_spanish.getname())\n",
    "\n",
    "print('Is the current language known as castellano?',hiworld_spanish.check_alias('castellano'))\n",
    "\n",
    "print('Is the current language known as Spainish?',hiworld_spanish.check_alias('Spainish'))\n",
    "\n",
    "print(hiworld_spanish.say_to_world(\"What's up\"))\n"
   ]
  },
  {
   "cell_type": "markdown",
   "id": "6ae689f5-43bf-43b7-82c1-daf8b7acc834",
   "metadata": {},
   "source": [
    "### Storing objects as attributes of other classes\n",
    "\n",
    "Now suppose we want to define an object that will allow us to say hello and some other things to the world in as many languages as we can provide dictionaries for. We would like it to provide a simple way to input the language dictionaries, and make it easy to switch between languages.\n",
    "\n",
    "In building such an object, it will be useful to leverage what we've already built for the lower-level \"Hello world\" object. If we've built the lower-level object well, we'll be able to use surface-level methods in a logical, intuitive way, and won't need to dig deeper and understand or modify what it is doing internally.\n",
    "\n",
    "The `multilingual_hello_world` class below takes a list of language dictionaries as an argument. It then instantiates a list of `hello_world_onelanguage` objects and stores that list as an attribute.\n",
    "\n",
    "If no initial language name or alias is provided, it chooses a language at random from its list, using the `choose_random_language` method.\n",
    "\n",
    "The `find_by_alias` iterates over the list of languages attribute, and leverages the `check_alias` method of each object to check if the name being provided matches one of them.\n",
    "\n",
    "Defining a `set_language` method allows us to specify what happens if the specified language is not found in the current list, and what messages to output if it is, while still having a ``sounds-like-what-it-does'' one-shot method to call to accomplish the task.\n",
    "\n",
    "The `sayhello` and `say_to_world` methods simply call the lower-level methods of the currently-selected language."
   ]
  },
  {
   "cell_type": "code",
   "execution_count": 88,
   "id": "3a0c09d3-b598-47f4-81f5-131f8d830424",
   "metadata": {},
   "outputs": [],
   "source": [
    "import numpy as np\n",
    "\n",
    "\n",
    "class multilingual_hello_world():\n",
    "    def __init__(self,languages_in,initial_language=None):\n",
    "        self.languages = [hello_world_onelanguage(lang['lang_name'],\n",
    "                                                  lang['lang_aliases'],\n",
    "                                                  lang['word_dict']) for lang in languages_in]\n",
    "        \n",
    "        if initial_language is None:\n",
    "            self.choose_random_language()\n",
    "        else:\n",
    "            self.set_language(initial_language)\n",
    "\n",
    "    def choose_random_language(self):\n",
    "        self.cur_language = self.languages[np.random.randint(0,len(self.languages))]\n",
    "        print(f'{self.cur_language.getname()} chosen at random and set as current language.')\n",
    "\n",
    "    def find_by_alias(self,alias):\n",
    "        for lang in self.languages:\n",
    "            if lang.check_alias(alias):\n",
    "                return lang\n",
    "\n",
    "    def set_language(self,language):\n",
    "        curlang = self.find_by_alias(language)\n",
    "        if curlang is None:\n",
    "            raise RuntimeError(f'Language called {language} not found.')\n",
    "        else:\n",
    "            self.cur_language = curlang\n",
    "            message = f'Language called {language}'\n",
    "            if language.lower().capitalize != self.cur_language.getname():\n",
    "                message += f' (or {self.cur_language.getname()})'\n",
    "            message += ' found and selected.'\n",
    "            print(message)\n",
    "                \n",
    "\n",
    "    def sayhello(self):\n",
    "        return self.cur_language.sayhello()\n",
    "\n",
    "    def say_to_world(self,word):\n",
    "        return self.cur_language.say_to_world(word)\n",
    "        \n",
    "        "
   ]
  },
  {
   "cell_type": "markdown",
   "id": "c028aee6-16d6-47b0-a481-18f536b0b27e",
   "metadata": {},
   "source": [
    "### Providing input data\n",
    "\n",
    "In a real application, it would be the best practice to store the word dictionary data in some sort of separate file. But, to keep things contained and tangible for this example, we'll instead just input our data directly into our script.\n",
    "\n",
    "Let's start with a set of two dictionaries just for English and Spanish."
   ]
  },
  {
   "cell_type": "code",
   "execution_count": 89,
   "id": "4ba6adf7-21c1-4a28-9ac0-4764530aad48",
   "metadata": {},
   "outputs": [
    {
     "name": "stdout",
     "output_type": "stream",
     "text": [
      "Language called English (or English) found and selected.\n",
      "Hello world!\n",
      "Goodbye world!\n",
      "Language called ispanski (or Spanish) found and selected.\n",
      "Hola mundo!\n",
      "Adios mundo!\n"
     ]
    }
   ],
   "source": [
    "\n",
    "SPANENGLISH = [\n",
    "    dict(lang_name='english',\n",
    "         lang_aliases=['ingles','angles','ingilizce','inglizi','inklizi','angliyskiy','angliski'],\n",
    "         word_dict=dict(hello='hello',\n",
    "                        world='world',\n",
    "                        goodbye='goodbye',\n",
    "                        goodmorning='good morning',\n",
    "                        goodafternoon='good afternoon',\n",
    "                        goodevening='good evening'\n",
    "                       )\n",
    "        ),\n",
    "    dict(lang_name='spanish',\n",
    "         lang_aliases=['espanol','espanyol','isbanci','ispani','ispanskiy','ispanski'],\n",
    "         word_dict=dict(hello='hola',\n",
    "                        world='mundo',\n",
    "                        goodbye='adios',\n",
    "                        goodmorning='buenos dias',\n",
    "                        goodafternoon='buenas tardes',\n",
    "                        goodevening='buenas noches'\n",
    "                       )\n",
    "        )]\n",
    "\n",
    "spanglish_hiworld = multilingual_hello_world(languages_in=SPANENGLISH,\n",
    "                                             initial_language='English'\n",
    "                                            )\n",
    "\n",
    "print(spanglish_hiworld.sayhello())\n",
    "print(spanglish_hiworld.say_to_world('goodbye'))\n",
    "\n",
    "spanglish_hiworld.set_language('ispanski')\n",
    "\n",
    "print(spanglish_hiworld.sayhello())\n",
    "print(spanglish_hiworld.say_to_world('goodbye'))\n"
   ]
  },
  {
   "cell_type": "markdown",
   "id": "3a80e7d1-3647-4d43-9149-c5687d4e460d",
   "metadata": {},
   "source": [
    "### Expanding the set of input data\n",
    "\n",
    "A convenient thing about the class we've created is it makes it easy to add more dictionaries for more languages. Below we add 4 more, and show off the class' ability to select a language at random when none is specified."
   ]
  },
  {
   "cell_type": "code",
   "execution_count": 101,
   "id": "aab22cbd-b5d9-4cb4-8963-d3179d2fba63",
   "metadata": {},
   "outputs": [
    {
     "name": "stdout",
     "output_type": "stream",
     "text": [
      "Russian chosen at random and set as current language.\n",
      "Dobre otra mir!\n",
      "I don't know how to say goodevening.\n",
      "None\n",
      "Catalan chosen at random and set as current language.\n",
      "Bon dia mon!\n",
      "Bona nit mon!\n",
      "Turkish chosen at random and set as current language.\n",
      "Gunaydin dunya!\n",
      "Iyi aksamlar dunya!\n"
     ]
    },
    {
     "name": "stderr",
     "output_type": "stream",
     "text": [
      "C:\\Users\\MDelventhal\\AppData\\Local\\Temp\\ipykernel_33368\\1149072036.py:20: UserWarning: Word not found in dictionary.\n",
      "  warnings.warn('Word not found in dictionary.')\n"
     ]
    }
   ],
   "source": [
    "\n",
    "LANGUAGE_SET_6LANG = SPANENGLISH + [\n",
    "    dict(lang_name='catalan',\n",
    "         lang_aliases=['catalan','catala','catalanci','cataloni','catalanskiy','catalanski'],\n",
    "         word_dict=dict(hello='hola',\n",
    "                        world='mon',\n",
    "                        goodbye='adeu',\n",
    "                        goodmorning='bon dia',\n",
    "                        goodafternoon='bona tarde',\n",
    "                        goodevening='bona nit'\n",
    "                       )\n",
    "        ),\n",
    "    dict(lang_name='turkish',\n",
    "         lang_aliases=['turco','turc','turkce','turki','turetskiy','turetski'],\n",
    "         word_dict=dict(hello='merhaba',\n",
    "                        world='dunya',\n",
    "                        goodbye='hoscakal',\n",
    "                        goodmorning='gunaydin',\n",
    "                        goodevening='iyi aksamlar'\n",
    "                       )\n",
    "        ),\n",
    "    dict(lang_name='arabic',\n",
    "         lang_aliases=['arabe','arab','arabce','arabi','arabskiy','arabski'],\n",
    "         word_dict=dict(hello='marhaban',\n",
    "                        world='dunya',\n",
    "                        goodbye='maasalaama',\n",
    "                        goodmorning='sabahul khayr',\n",
    "                        goodafternoon='masaa-ul khayr',\n",
    "                        goodevening='layla saaeeda'\n",
    "                       )\n",
    "        ),\n",
    "    dict(lang_name='russian',\n",
    "         lang_aliases=['ruso','rus','rusca','rusi','ruskiy','ruski'],\n",
    "         word_dict=dict(hello='priviyet',\n",
    "                        world='mir',\n",
    "                        goodbye='paca',\n",
    "                        goodmorning='dobre otra',\n",
    "                        goodafternoon='dobre dyein'\n",
    "                       )\n",
    "        )\n",
    "]\n",
    "\n",
    "for j in range(3):\n",
    "    hiworld_6lang = multilingual_hello_world(languages_in=LANGUAGE_SET_6LANG)\n",
    "    \n",
    "    hiworld_6lang.sayhello()\n",
    "    print(hiworld_6lang.say_to_world('goodmorning'))\n",
    "    print(hiworld_6lang.say_to_world('goodevening'))\n",
    "\n"
   ]
  },
  {
   "cell_type": "markdown",
   "id": "fb769383-d60f-466c-9be8-45926354b871",
   "metadata": {},
   "source": [
    "### Quick exercises for OOP\n",
    "\n",
    " 1. Add to the list of word dictionaries, either by adding/correcting word entries for existing languages, or adding a new language. Test out the multilingual hello world class with the new dictionary.\n",
    " 2. Create a subclass of the multilingual hello world class which adds new functionality: count the words in the currently-selected dictionary."
   ]
  },
  {
   "cell_type": "code",
   "execution_count": null,
   "id": "b24728a8-7e6d-44ab-b7f7-92c90643e55f",
   "metadata": {},
   "outputs": [],
   "source": []
  },
  {
   "cell_type": "code",
   "execution_count": 103,
   "id": "ae4e45b3-6ba3-4b15-a8d7-a49a3f0835de",
   "metadata": {},
   "outputs": [
    {
     "name": "stdout",
     "output_type": "stream",
     "text": [
      "Catalan chosen at random and set as current language.\n"
     ]
    },
    {
     "data": {
      "text/plain": [
       "'You currently have 6 different language sets to choose from.'"
      ]
     },
     "execution_count": 103,
     "metadata": {},
     "output_type": "execute_result"
    }
   ],
   "source": [
    "class multilingual_hello_world_plus(multilingual_hello_world):\n",
    "    def count_language_sets(self):\n",
    "        return f'You currently have {len(self.languages)} different language sets to choose from.'\n",
    "\n",
    "hello_world_a = multilingual_hello_world_plus(languages_in=LANGUAGE_SET_6LANG)\n",
    "\n",
    "hello_world_a.count_language_sets()"
   ]
  },
  {
   "cell_type": "code",
   "execution_count": null,
   "id": "7654c96a-45d4-48df-a3e2-1acc09bfb48e",
   "metadata": {},
   "outputs": [],
   "source": []
  },
  {
   "cell_type": "code",
   "execution_count": null,
   "id": "02abb49d-7e03-4aff-a0d7-499fd074dad7",
   "metadata": {},
   "outputs": [],
   "source": []
  },
  {
   "cell_type": "code",
   "execution_count": null,
   "id": "7df187f6-47b6-45e6-b4e0-12c7f36305d7",
   "metadata": {},
   "outputs": [],
   "source": []
  }
 ],
 "metadata": {
  "kernelspec": {
   "display_name": "Python 3 (ipykernel)",
   "language": "python",
   "name": "python3"
  },
  "language_info": {
   "codemirror_mode": {
    "name": "ipython",
    "version": 3
   },
   "file_extension": ".py",
   "mimetype": "text/x-python",
   "name": "python",
   "nbconvert_exporter": "python",
   "pygments_lexer": "ipython3",
   "version": "3.12.1"
  }
 },
 "nbformat": 4,
 "nbformat_minor": 5
}
