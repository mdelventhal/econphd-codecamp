{
 "cells": [
  {
   "cell_type": "markdown",
   "id": "fe69db56-ad26-41c3-a11b-a75cf3fe7cf5",
   "metadata": {},
   "source": [
    "# Numerically proving L'Hopital's rule\n",
    "\n",
    "Use numerical differentiation to numerically \"prove\" L'Hopital's rule. Use at least some aspects of Object-Oriented Programming to construct your code.\n",
    "\n",
    "*(Hint: Maybe the numerator and denominator can be attributes. Some L'Hopital- or proof-specific operations could maybe be defined as methods.)*"
   ]
  },
  {
   "cell_type": "code",
   "execution_count": null,
   "id": "5f35bb17-b8da-4884-9412-3b7d7f4f10ba",
   "metadata": {},
   "outputs": [],
   "source": []
  }
 ],
 "metadata": {
  "kernelspec": {
   "display_name": "Python 3 (ipykernel)",
   "language": "python",
   "name": "python3"
  },
  "language_info": {
   "codemirror_mode": {
    "name": "ipython",
    "version": 3
   },
   "file_extension": ".py",
   "mimetype": "text/x-python",
   "name": "python",
   "nbconvert_exporter": "python",
   "pygments_lexer": "ipython3",
   "version": "3.12.1"
  }
 },
 "nbformat": 4,
 "nbformat_minor": 5
}
