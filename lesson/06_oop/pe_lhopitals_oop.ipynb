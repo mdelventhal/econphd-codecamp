{
 "cells": [
  {
   "cell_type": "markdown",
   "id": "fe69db56-ad26-41c3-a11b-a75cf3fe7cf5",
   "metadata": {},
   "source": [
    "# Numerically proving L'Hopital's rule\n",
    "\n",
    "Numerically \"prove\" L'Hopital's rule. Use at least some aspects of Object-Oriented Programming to construct your code.\n",
    "\n",
    "You may use any approach you like. Here are some ideas which might help you formulate a viable approach:\n",
    "  - It might be more interesting to do this proof for zero-divide-by-zero \"holes\" rather than infinity-divide-by-infinity asymptotes. But if you have an idea for asymptotes feel free to go for it!\n",
    "  - A proof might consist of a visualization demonstrating the behavior to proven, and/or text output demonstrating the behavior to be proven at closer and closer points to the limit.\n",
    "  - Numerical differentiation could be useful for calculating the first derivatives. It could especially help you make your solution more general, so that it could work for any combination of numerator/denominator.\n",
    "  - Some things that might be \"attributes\" of your object:\n",
    "      + the numerator function\n",
    "      + the denominator function\n",
    "  - Some things that might be \"methods\" of your object:\n",
    "      + operations related to creating the visual or text-based demonstration\n",
    "\n"
   ]
  },
  {
   "cell_type": "code",
   "execution_count": null,
   "id": "24dde5c1-6005-4c6e-b64e-5d85128acde6",
   "metadata": {},
   "outputs": [],
   "source": []
  }
 ],
 "metadata": {
  "kernelspec": {
   "display_name": "Python 3 (ipykernel)",
   "language": "python",
   "name": "python3"
  },
  "language_info": {
   "codemirror_mode": {
    "name": "ipython",
    "version": 3
   },
   "file_extension": ".py",
   "mimetype": "text/x-python",
   "name": "python",
   "nbconvert_exporter": "python",
   "pygments_lexer": "ipython3",
   "version": "3.12.1"
  }
 },
 "nbformat": 4,
 "nbformat_minor": 5
}
